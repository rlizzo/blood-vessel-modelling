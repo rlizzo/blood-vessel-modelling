{
 "cells": [
  {
   "cell_type": "code",
   "execution_count": 1,
   "metadata": {},
   "outputs": [],
   "source": [
    "import matplotlib\n",
    "%matplotlib ipympl\n",
    "import matplotlib.pyplot as plt\n",
    "from mpl_toolkits.mplot3d import Axes3D\n",
    "from matplotlib import cm\n",
    "from vmtk import vmtkscripts\n",
    "import numpy as np\n",
    "import os\n",
    "from extractionmethods import image_reader, surface_reader\n",
    "\n",
    "from plotting import IndexTracker\n",
    "import clustering_utilities\n",
    "\n",
    "import scipy"
   ]
  },
  {
   "cell_type": "code",
   "execution_count": 2,
   "metadata": {},
   "outputs": [],
   "source": [
    "datasetDir = os.path.join(os.getcwd(), 'multiphoton-sample', 'multiphoton-sample-1')\n",
    "datasetDerivedDir = os.path.join(datasetDir, 'derived', 'thresh254-5', 'iterations300')\n",
    "\n",
    "imagePath = os.path.join(datasetDerivedDir, 'input-image.vti')\n",
    "surfacePath = os.path.join(datasetDerivedDir, 'surface.vtp')"
   ]
  },
  {
   "cell_type": "code",
   "execution_count": 3,
   "metadata": {},
   "outputs": [
    {
     "name": "stdout",
     "output_type": "stream",
     "text": [
      "Reading VTK XML image file.\n",
      "Spacing 0.821945 0.821945 2.000000\n",
      "Origin -0.000000 -0.000000 148.000000\n",
      "Dimensions 512 512 130\n",
      "wrapping vtkDataObject\n",
      "setting origin\n",
      "setting dimensions\n",
      "setting spacing\n",
      "writing point data: \n"
     ]
    }
   ],
   "source": [
    "vtkImage = image_reader(imagePath)\n",
    "\n",
    "converter = vmtkscripts.vmtkImageToNumpy()\n",
    "converter.Image = vtkImage\n",
    "converter.Execute()"
   ]
  },
  {
   "cell_type": "code",
   "execution_count": 5,
   "metadata": {},
   "outputs": [],
   "source": [
    "ad = converter.ArrayDict\n",
    "image = ad['PointData']['ImageScalars'].astype(np.float)"
   ]
  },
  {
   "cell_type": "code",
   "execution_count": 17,
   "metadata": {},
   "outputs": [],
   "source": [
    "image[image < 255] = 0"
   ]
  },
  {
   "cell_type": "code",
   "execution_count": 7,
   "metadata": {},
   "outputs": [],
   "source": [
    "joined_vectors, labels = clustering_utilities._get_vector_indices(image, return_label=True)\n",
    "fig = plt.figure()\n",
    "ax = Axes3D(fig)\n",
    "color=iter(cm.rainbow(np.linspace(0,1,len(labels))))\n",
    "for joined_vector_indices in joined_vectors:\n",
    "    c=next(color)\n",
    "    ax.plot3D(joined_vector_indices[::4,0], joined_vector_indices[::4,1], joined_vector_indices[::4,2], 'o', c=c, picker=True)\n",
    "plt.show()"
   ]
  },
  {
   "cell_type": "code",
   "execution_count": 18,
   "metadata": {},
   "outputs": [
    {
     "data": {
      "application/vnd.jupyter.widget-view+json": {
       "model_id": "65dcecf78389468da6abb227bf783166",
       "version_major": 2,
       "version_minor": 0
      },
      "text/html": [
       "<p>Failed to display Jupyter Widget of type <code>FigureCanvasNbAgg</code>.</p>\n",
       "<p>\n",
       "  If you're reading this message in the Jupyter Notebook or JupyterLab Notebook, it may mean\n",
       "  that the widgets JavaScript is still loading. If this message persists, it\n",
       "  likely means that the widgets JavaScript library is either not installed or\n",
       "  not enabled. See the <a href=\"https://ipywidgets.readthedocs.io/en/stable/user_install.html\">Jupyter\n",
       "  Widgets Documentation</a> for setup instructions.\n",
       "</p>\n",
       "<p>\n",
       "  If you're reading this message in another frontend (for example, a static\n",
       "  rendering on GitHub or <a href=\"https://nbviewer.jupyter.org/\">NBViewer</a>),\n",
       "  it may mean that your frontend doesn't currently support widgets.\n",
       "</p>\n"
      ],
      "text/plain": [
       "FigureCanvasNbAgg()"
      ]
     },
     "metadata": {},
     "output_type": "display_data"
    }
   ],
   "source": [
    "fig = plt.figure()\n",
    "ax = fig.add_subplot(111)\n",
    "X = image\n",
    "tracker = IndexTracker(ax, X, color=plt.cm.gray)\n",
    "fig.canvas.mpl_connect('scroll_event', tracker.onscroll)\n",
    "fig.show()"
   ]
  },
  {
   "cell_type": "code",
   "execution_count": null,
   "metadata": {},
   "outputs": [],
   "source": [
    "viewer = vmtkscripts.vmtkImageViewer()\n",
    "viewer.Image = image\n",
    "viewer.Execute()"
   ]
  }
 ],
 "metadata": {
  "kernelspec": {
   "display_name": "Python 3",
   "language": "python",
   "name": "python3"
  },
  "language_info": {
   "codemirror_mode": {
    "name": "ipython",
    "version": 3
   },
   "file_extension": ".py",
   "mimetype": "text/x-python",
   "name": "python",
   "nbconvert_exporter": "python",
   "pygments_lexer": "ipython3",
   "version": "3.6.1"
  }
 },
 "nbformat": 4,
 "nbformat_minor": 2
}
