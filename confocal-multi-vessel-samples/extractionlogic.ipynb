{
 "cells": [
  {
   "cell_type": "code",
   "execution_count": null,
   "metadata": {},
   "outputs": [],
   "source": [
    "from vmtk import vmtkscripts\n",
    "from extractionmethods import initialization_image, levelset_segmentation, marching_cubes, image_writer, surface_writer, image_reader, image_cast, vessel_enhancer\n",
    "import numpy as np\n",
    "import os\n",
    "import json\n",
    "from joblib import Parallel, delayed"
   ]
  },
  {
   "cell_type": "code",
   "execution_count": null,
   "metadata": {},
   "outputs": [],
   "source": [
    "datasetDir = os.path.join(os.getcwd(), 'multiphoton-sample', 'multiphoton-sample-3')\n",
    "datasetBaseDir = os.path.join(datasetDir, 'base')\n",
    "datasetBaseImagePath = os.path.join(datasetBaseDir, 'staxk1.mha')\n",
    "\n",
    "datasetDerivedDir = os.path.join(datasetDir, 'derived')\n",
    "if not os.path.exists(datasetDerivedDir):\n",
    "    os.makedirs(datasetDerivedDir)\n",
    "    print(f'created derived dataset directory at: {datasetDerivedDir}')"
   ]
  },
  {
   "cell_type": "code",
   "execution_count": null,
   "metadata": {},
   "outputs": [],
   "source": [
    "def run_pre_analysis(datasetDerivedDir, lowerThreshValue, iterationValue):\n",
    "    parameterDir = os.path.join(datasetDerivedDir, f'thresh{lowerThreshValue}'.replace('.', '-'), f'iterations{iterationValue}')\n",
    "    if not os.path.exists(parameterDir):\n",
    "        os.makedirs(parameterDir)\n",
    "\n",
    "    upperThreshValue = None\n",
    "    curvature = 0\n",
    "    propagation = 0\n",
    "    advection = 1\n",
    "    enhanceMethod = \"ved\"\n",
    "    enhanceIterations = 3\n",
    "    enhanceDiffusionIterations = 3\n",
    "\n",
    "    image = image_reader(datasetBaseImagePath)\n",
    "    image_writer(image, os.path.join(parameterDir, 'input-image.vti'))\n",
    "    \n",
    "    casted = image_cast(image)\n",
    "    image_writer(casted, os.path.join(parameterDir, 'casted-image.vti'))\n",
    "    \n",
    "    enhanced = vessel_enhancer(casted, enhanceMethod, enhanceIterations, enhanceDiffusionIterations)\n",
    "    image_writer(enhanced, os.path.join(parameterDir, 'enhanced-image.vti'))\n",
    "\n",
    "    init = initialization_image(casted, lowerThreshValue, upperThreshValue)\n",
    "    image_writer(init, os.path.join(parameterDir, 'initialization-image.vti'))\n",
    "    \n",
    "    return True\n",
    "\n",
    "def run_analysis(datasetDerivedDir, lowerThreshValue, iterationValue):\n",
    "    parameterDir = os.path.join(datasetDerivedDir, f'thresh{lowerThreshValue}'.replace('.', '-'), f'iterations{iterationValue}')\n",
    "    if not os.path.exists(parameterDir):\n",
    "        os.makedirs(parameterDir)\n",
    "        \n",
    "    upperThreshValue = None\n",
    "    curvature = 0\n",
    "    propagation = 0\n",
    "    advection = 1\n",
    "    enhanceMethod = \"ved\"\n",
    "    enhanceIterations = 3\n",
    "    enhanceDiffusionIterations = 3\n",
    "    \n",
    "    casted = image_reader(os.path.join(parameterDir, 'casted-image.vti'))\n",
    "    enhanced = image_reader(os.path.join(parameterDir, 'enhanced-image.vti'))\n",
    "    init = image_reader(os.path.join(parameterDir, 'initialization-image.vti'))\n",
    "\n",
    "    ls = levelset_segmentation(casted, init, enhanced, curvature, propagation, advection, iterationValue)\n",
    "    image_writer(ls, os.path.join(parameterDir, 'levelset-image.vti'))\n",
    "\n",
    "    mc = marching_cubes(ls)\n",
    "    surface_writer(mc, os.path.join(parameterDir, 'surface.vtp'))\n",
    "\n",
    "    params = {'initialImagePath': datasetBaseImagePath,\n",
    "              'parameterDir': parameterDir,\n",
    "              'lowerThreshValue':lowerThreshValue,\n",
    "              'upperThreshValue':upperThreshValue,\n",
    "              'enhanceMethod':enhanceMethod,\n",
    "              'enhanceIterations': enhanceIterations,\n",
    "              'enhanceDiffusionIterations':enhanceDiffusionIterations,\n",
    "              'curvatureScaling':curvature,\n",
    "              'propagation':propagation,\n",
    "              'advection':advection,\n",
    "              'iterationValue':iterationValue,\n",
    "              'processSteps':['read_image', 'initialize_image', 'cast_image', 'vessel_enhancer', 'level_set_evolution', 'marching_cubes']}\n",
    "    with open(os.path.join(parameterDir, 'parmas.json'), 'w+') as f:\n",
    "        json.dump(params, f)\n",
    "\n",
    "    return True\n",
    "        "
   ]
  },
  {
   "cell_type": "code",
   "execution_count": null,
   "metadata": {},
   "outputs": [],
   "source": [
    "lowerThreshValues = [200, 225, 240, 250, 255]\n",
    "iterationValues = [50, 100, 200, 350, 500]"
   ]
  },
  {
   "cell_type": "code",
   "execution_count": null,
   "metadata": {},
   "outputs": [],
   "source": [
    "Parallel(n_jobs=3)(delayed(run_pre_analysis)(datasetDerivedDir, lowThresh, iteration) for lowThresh in lowerThreshValues for iteration in iterationValues)"
   ]
  },
  {
   "cell_type": "code",
   "execution_count": null,
   "metadata": {},
   "outputs": [],
   "source": [
    "Parallel(n_jobs=12)(delayed(run_analysis)(datasetDerivedDir, lowThresh, iteration) for lowThresh in lowerThreshValues for iteration in iterationValues)"
   ]
  },
  {
   "cell_type": "code",
   "execution_count": null,
   "metadata": {},
   "outputs": [],
   "source": []
  }
 ],
 "metadata": {
  "kernelspec": {
   "display_name": "Python 3",
   "language": "python",
   "name": "python3"
  },
  "language_info": {
   "codemirror_mode": {
    "name": "ipython",
    "version": 3
   },
   "file_extension": ".py",
   "mimetype": "text/x-python",
   "name": "python",
   "nbconvert_exporter": "python",
   "pygments_lexer": "ipython3",
   "version": "3.6.1"
  }
 },
 "nbformat": 4,
 "nbformat_minor": 2
}
