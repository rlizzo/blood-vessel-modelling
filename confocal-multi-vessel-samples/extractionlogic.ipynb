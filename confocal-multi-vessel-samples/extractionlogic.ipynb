{
 "cells": [
  {
   "cell_type": "code",
   "execution_count": null,
   "metadata": {},
   "outputs": [],
   "source": [
    "from vmtk import vmtkscripts\n",
    "from extractionmethods import initialization_image, levelset_segmentation, marching_cubes, image_writer, surface_writer, image_reader, image_cast, vessel_enhancer\n",
    "import numpy as np\n",
    "import os\n",
    "import json\n",
    "from joblib import Parallel, delayed\n",
    "from shutil import copyfile"
   ]
  },
  {
   "cell_type": "code",
   "execution_count": null,
   "metadata": {},
   "outputs": [],
   "source": [
    "def run_pre_analysis(dataSetBaseImagePath, datasetDerivedDir, **kwargs):\n",
    "\n",
    "    image = image_reader(datasetBaseImagePath)\n",
    "    image_writer(image, os.path.join(datasetDerivedDir, 'input-image.vti'))\n",
    "    \n",
    "    casted = image_cast(image)\n",
    "    image_writer(casted, os.path.join(datasetDerivedDir, 'casted-image.vti'))\n",
    "    \n",
    "    enhanced = vessel_enhancer(casted, kwargs['enhanceMethod'], kwargs['enhanceIterations'], kwargs['enhanceDiffusionIterations'])\n",
    "    image_writer(enhanced, os.path.join(datasetDerivedDir, 'enhanced-image.vti'))\n",
    "    \n",
    "    return True\n",
    "    "
   ]
  },
  {
   "cell_type": "code",
   "execution_count": null,
   "metadata": {},
   "outputs": [],
   "source": [
    "def run_initialize(datasetBaseImagePath, datasetDerivedDir, lowerThreshValue, iterationValue, **kwargs):\n",
    "    parameterDir = os.path.join(datasetDerivedDir, f'thresh{lowerThreshValue}'.replace('.', '-'), f'iterations{iterationValue}')\n",
    "    if not os.path.exists(parameterDir):\n",
    "        os.makedirs(parameterDir)\n",
    "\n",
    "    copyfile(os.path.join(datasetDerivedDir, 'input-image.vti'),\n",
    "              os.path.join(parameterDir, 'input-image.vti'))\n",
    "    \n",
    "    copyfile(os.path.join(datasetDerivedDir, 'casted-image.vti'),\n",
    "             os.path.join(parameterDir, 'casted-image.vti'))\n",
    "             \n",
    "    copyfile(os.path.join(datasetDerivedDir, 'enhanced-image.vti'),\n",
    "             os.path.join(parameterDir, 'enhanced-image.vti'))\n",
    "             \n",
    "    casted = image_reader(os.path.join(parameterDir, 'casted-image.vti'))\n",
    "\n",
    "    init = initialization_image(casted, lowerThreshValue, kwargs['upperThreshValue'])\n",
    "    image_writer(init, os.path.join(parameterDir, 'initialization-image.vti'))\n",
    "    \n",
    "    return True"
   ]
  },
  {
   "cell_type": "code",
   "execution_count": null,
   "metadata": {},
   "outputs": [],
   "source": [
    "def run_analysis(datasetBaseImagePath, datasetDerivedDir, lowerThreshValue, iterationValue, **kwargs):\n",
    "    parameterDir = os.path.join(datasetDerivedDir, f'thresh{lowerThreshValue}'.replace('.', '-'), f'iterations{iterationValue}')\n",
    "    if not os.path.exists(parameterDir):\n",
    "        raise NotADirectoryError(parameterDir)\n",
    "    \n",
    "    casted = image_reader(os.path.join(parameterDir, 'casted-image.vti'))\n",
    "    enhanced = image_reader(os.path.join(parameterDir, 'enhanced-image.vti'))\n",
    "    init = image_reader(os.path.join(parameterDir, 'initialization-image.vti'))\n",
    "\n",
    "    ls = levelset_segmentation(casted, init, enhanced, \n",
    "                               kwargs['propagation'], kwargs['curvature'], kwargs['advection'], \n",
    "                               iterationValue)\n",
    "    image_writer(ls, os.path.join(parameterDir, 'levelset-image.vti'))\n",
    "\n",
    "    mc = marching_cubes(ls)\n",
    "    surface_writer(mc, os.path.join(parameterDir, 'surface.vtp'))\n",
    "\n",
    "    params = {'parameterDir': parameterDir,\n",
    "              'lowerThreshValue':lowerThreshValue,\n",
    "              'iterationValue':iterationValue,\n",
    "              'datasetBaseImagePath':datasetBaseImagePath,\n",
    "              'processSteps':['read_image', 'initialize_image', 'cast_image', 'vessel_enhancer', 'level_set_evolution', 'marching_cubes']}\n",
    "    \n",
    "    for k, v in kwargs.items():\n",
    "        params[k] = v\n",
    "    \n",
    "    with open(os.path.join(parameterDir, 'parmas.json'), 'w+') as f:\n",
    "        json.dump(params, f)\n",
    "\n",
    "    return True\n",
    "        "
   ]
  },
  {
   "cell_type": "code",
   "execution_count": null,
   "metadata": {},
   "outputs": [],
   "source": [
    "lowerThreshValues = [220, 230, 240, 250, 254]\n",
    "iterationValues = [100, 200, 350]\n",
    "\n",
    "paramDict = {'upperThreshValue': None,\n",
    "            'curvature': 1,\n",
    "            'propagation': 2,\n",
    "            'advection': 1,\n",
    "            'enhanceMethod': \"ved\",\n",
    "            'enhanceIterations': 3,\n",
    "            'enhanceDiffusionIterations': 3}"
   ]
  },
  {
   "cell_type": "code",
   "execution_count": null,
   "metadata": {},
   "outputs": [],
   "source": [
    "# [(dataSetDir, inputfilename)]\n",
    "\n",
    "dataSets = [(os.path.join(os.getcwd(), 'multiphoton-sample', 'multiphoton-sample-1'), 'stack1_2um_404um_cropped.mha'), \n",
    "            (os.path.join(os.getcwd(), 'multiphoton-sample', 'multiphoton-sample-2'), 'sstack1_514um_2umstep_08xyspacing_.mha'),\n",
    "            (os.path.join(os.getcwd(), 'multiphoton-sample', 'multiphoton-sample-3'), 'staxk1.mha')]\n",
    "\n",
    "for dataSet in dataSets:\n",
    "    dataSetDir = dataSet[0]\n",
    "    datasetBaseDir = os.path.join(dataSetDir, 'base')\n",
    "    datasetBaseImagePath = os.path.join(datasetBaseDir, dataSet[1])\n",
    "\n",
    "    datasetDerivedDir = os.path.join(dataSetDir, 'derived')\n",
    "    if not os.path.exists(datasetDerivedDir):\n",
    "        os.makedirs(datasetDerivedDir)\n",
    "        print(f'created derived dataset directory at: {datasetDerivedDir}')\n",
    "        \n",
    "    run_pre_analysis(datasetBaseImagePath, datasetDerivedDir, **paramDict)\n",
    "    \n",
    "    Parallel(n_jobs=12)(delayed(run_initialize)(datasetBaseImagePath, datasetDerivedDir, lowThresh, iteration, **paramDict) for lowThresh in lowerThreshValues for iteration in iterationValues)\n",
    "\n",
    "    Parallel(n_jobs=15)(delayed(run_analysis)(datasetBaseImagePath, datasetDerivedDir, lowThresh, iteration, **paramDict) for lowThresh in lowerThreshValues for iteration in iterationValues)"
   ]
  },
  {
   "cell_type": "code",
   "execution_count": null,
   "metadata": {},
   "outputs": [],
   "source": [
    "for "
   ]
  }
 ],
 "metadata": {
  "kernelspec": {
   "display_name": "Python 3",
   "language": "python",
   "name": "python3"
  },
  "language_info": {
   "codemirror_mode": {
    "name": "ipython",
    "version": 3
   },
   "file_extension": ".py",
   "mimetype": "text/x-python",
   "name": "python",
   "nbconvert_exporter": "python",
   "pygments_lexer": "ipython3",
   "version": "3.6.1"
  }
 },
 "nbformat": 4,
 "nbformat_minor": 2
}
