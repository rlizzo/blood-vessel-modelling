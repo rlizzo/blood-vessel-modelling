{
 "cells": [
  {
   "cell_type": "code",
   "execution_count": null,
   "metadata": {},
   "outputs": [],
   "source": [
    "from vmtk import vmtkscripts\n",
    "from extractionmethods import initialization_image, levelset_segmentation, marching_cubes, image_writer, surface_writer, image_reader\n",
    "import numpy as np\n",
    "import os\n",
    "import json\n",
    "from joblib import Parallel, delayed"
   ]
  },
  {
   "cell_type": "code",
   "execution_count": null,
   "metadata": {},
   "outputs": [],
   "source": [
    "datasetDir = os.path.join(os.getcwd(), 'confical-sample-vessel')\n",
    "datasetBaseDir = os.path.join(datasetDir, 'base')\n",
    "datasetBaseImagePath = os.path.join(datasetBaseDir, 'APOE310mo-1-Cortex3.mha')\n",
    "\n",
    "datasetDerivedDir = os.path.join(datasetDir, 'derived')\n",
    "if not os.path.exists(datasetDerivedDir):\n",
    "    os.makedirs(datasetDerivedDir)\n",
    "    print(f'created derived dataset directory at: {datasetDerivedDir}')"
   ]
  },
  {
   "cell_type": "code",
   "execution_count": null,
   "metadata": {},
   "outputs": [],
   "source": [
    "def run_analysis(datasetDerivedDir, lowerThreshValue, iterationValue):\n",
    "    parameterDir = os.path.join(datasetDerivedDir, f'thresh{lowerThreshValue}', f'iterations{iterationValue}')\n",
    "    if not os.path.exists(parameterDir):\n",
    "        os.makedirs(parameterDir)\n",
    "\n",
    "    upperThreshValue = None\n",
    "    curvature = 0\n",
    "    propagation = 0\n",
    "    advection = 1\n",
    "\n",
    "    image = image_reader(datasetBaseImagePath)\n",
    "    image_writer(image, os.path.join(parameterDir, 'input-image.vti'))\n",
    "\n",
    "    init = initialization_image(image, lowerThreshValue, upperThreshValue)\n",
    "    image_writer(init, os.path.join(parameterDir, 'initialization-image.vti'))\n",
    "\n",
    "    ls = levelset_segmentation(image, init, curvature, propagation, advection, iterationValue)\n",
    "    image_writer(ls, os.path.join(parameterDir, 'levelset-image.vti'))\n",
    "\n",
    "    mc = marching_cubes(ls)\n",
    "    surface_writer(mc, os.path.join(parameterDir, 'surface.vtp'))\n",
    "\n",
    "    params = {'initialImagePath': datasetBaseImagePath,\n",
    "              'parameterDir': parameterDir,\n",
    "              'lowerThreshValue':lowerThreshValue,\n",
    "              'upperThreshValue':upperThreshValue,\n",
    "              'curvatureScaling':curvature,\n",
    "              'propagation':propagation,\n",
    "              'advection':advection,\n",
    "              'iterationValue':iterationValue,\n",
    "              'processSteps':['read_image', 'initialize_image', 'level_set_evolution', 'marching_cubes']}\n",
    "    with open(os.path.join(parameterDir, 'parmas.json'), 'w+') as f:\n",
    "        json.dump(params, f)\n",
    "\n",
    "    return True\n",
    "        "
   ]
  },
  {
   "cell_type": "code",
   "execution_count": null,
   "metadata": {},
   "outputs": [],
   "source": [
    "lowerThreshValues = [100, 125, 150, 175, 200, 225, 250]\n",
    "iterationValues = [2, 10, 50, 100, 300]\n",
    "\n",
    "Parallel(n_jobs=3)(delayed(run_analysis)(datasetDerivedDir, lowThresh, iteration) for lowThresh in lowerThreshValues for iteration in iterationValues)"
   ]
  },
  {
   "cell_type": "code",
   "execution_count": null,
   "metadata": {},
   "outputs": [],
   "source": []
  }
 ],
 "metadata": {
  "kernelspec": {
   "display_name": "Python 3",
   "language": "python",
   "name": "python3"
  },
  "language_info": {
   "codemirror_mode": {
    "name": "ipython",
    "version": 3
   },
   "file_extension": ".py",
   "mimetype": "text/x-python",
   "name": "python",
   "nbconvert_exporter": "python",
   "pygments_lexer": "ipython3",
   "version": "3.6.1"
  }
 },
 "nbformat": 4,
 "nbformat_minor": 2
}
